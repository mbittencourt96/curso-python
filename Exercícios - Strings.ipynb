{
 "cells": [
  {
   "cell_type": "markdown",
   "metadata": {},
   "source": [
    "#### 1) Declare as variáveis e depois faça as seguintes transformações:\n",
    "#### a) 5.43 -> int\n",
    "#### b) 14 -> float\n",
    "#### c) 54.65 -> string"
   ]
  },
  {
   "cell_type": "code",
   "execution_count": null,
   "metadata": {},
   "outputs": [],
   "source": []
  },
  {
   "cell_type": "markdown",
   "metadata": {},
   "source": [
    "#### 2) Atribua o seguinte texto a uma variável:\n",
    "#### \"Joãozinho gosta muito de ir à aula. Hoje ele trouxe uma maçã para sua professora\""
   ]
  },
  {
   "cell_type": "code",
   "execution_count": null,
   "metadata": {},
   "outputs": [],
   "source": []
  },
  {
   "cell_type": "markdown",
   "metadata": {},
   "source": [
    "#### 3) Com a variável do exercício anterior, faça o seguinte:\n",
    "#### a) Substitua 'maçã' por outra fruta.\n",
    "#### b) Substitua 'Joãozinho' por 'Pedrinho'.\n",
    "#### c) Coloque toda a frase em letra maiúscula.\n",
    "#### d) Separe a primeira sentença da segunda."
   ]
  },
  {
   "cell_type": "code",
   "execution_count": null,
   "metadata": {},
   "outputs": [],
   "source": []
  },
  {
   "cell_type": "markdown",
   "metadata": {},
   "source": [
    "#### 4) Para praticar a concatenação e formatação de strings, faça o seguinte:\n",
    "#### a) Escolha duas coisas que você gosta muito. Coloque cada uma em uma variável.\n",
    "#### b) Coloque seu nome em uma variável.\n",
    "#### c) Crie uma string contendo \"Meu nome é _____ e eu gosto de _____ e também de _____\", substituindo os espaços em branco pelas suas variáveis. Você pode usar tanto o método de concatenação quanto o de formatação."
   ]
  },
  {
   "cell_type": "code",
   "execution_count": null,
   "metadata": {},
   "outputs": [],
   "source": []
  }
 ],
 "metadata": {
  "kernelspec": {
   "display_name": "Python 3",
   "language": "python",
   "name": "python3"
  },
  "language_info": {
   "codemirror_mode": {
    "name": "ipython",
    "version": 3
   },
   "file_extension": ".py",
   "mimetype": "text/x-python",
   "name": "python",
   "nbconvert_exporter": "python",
   "pygments_lexer": "ipython3",
   "version": "3.7.1"
  }
 },
 "nbformat": 4,
 "nbformat_minor": 2
}
