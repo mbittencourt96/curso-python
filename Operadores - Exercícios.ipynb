{
 "cells": [
  {
   "cell_type": "markdown",
   "metadata": {},
   "source": [
    "#### 1) Declare duas variáveis: x e y. Atribua o valor 3 a x e o valor 5 a y. Depois, faça as seguintes operações e mostre na tela o resultado:\n",
    "##### a) x mais y\n",
    "##### b) x menos y\n",
    "##### c) x vezes y\n",
    "##### d) x dividido por y\n",
    "##### e) x elevado a y\n",
    "##### f) Resto da divisão de x por y"
   ]
  },
  {
   "cell_type": "code",
   "execution_count": null,
   "metadata": {},
   "outputs": [],
   "source": []
  },
  {
   "cell_type": "markdown",
   "metadata": {},
   "source": [
    "####  2) Com as mesmas variáveis do exercício anterior, faça o seguinte: \n",
    "##### a) Adicione o valor 5 à x. Utilize o operador +=\n",
    "##### b) Multiplique y por 10. Utilize o operador *=\n",
    "##### c) Divida x por 2. Utilize o operador /="
   ]
  },
  {
   "cell_type": "code",
   "execution_count": null,
   "metadata": {},
   "outputs": [],
   "source": []
  },
  {
   "cell_type": "markdown",
   "metadata": {},
   "source": [
    "#### 3) Escreva códigos para responder as seguintes perguntas com True ou False:\n",
    "##### a) x é igual a y?\n",
    "##### b) x é menor que y?\n",
    "##### c) x é maior ou igual a y?"
   ]
  },
  {
   "cell_type": "code",
   "execution_count": null,
   "metadata": {},
   "outputs": [],
   "source": []
  },
  {
   "cell_type": "markdown",
   "metadata": {},
   "source": [
    "#### 4) As seguintes expressões são verdadeiras ou falsas?\n",
    "##### a) x > y OR x > 10\n",
    "##### b) x < y AND x < 20\n",
    "##### c) NOT x == y"
   ]
  },
  {
   "cell_type": "code",
   "execution_count": null,
   "metadata": {},
   "outputs": [],
   "source": []
  },
  {
   "cell_type": "markdown",
   "metadata": {},
   "source": [
    "#### 5) Declare uma lista com os 5 primeiros números ímpares. Depois, com código, verifique se x * 3 pertence à lista. Também verifique se y - 1 pertence à lista."
   ]
  },
  {
   "cell_type": "code",
   "execution_count": null,
   "metadata": {},
   "outputs": [],
   "source": []
  }
 ],
 "metadata": {
  "kernelspec": {
   "display_name": "Python 3",
   "language": "python",
   "name": "python3"
  },
  "language_info": {
   "codemirror_mode": {
    "name": "ipython",
    "version": 3
   },
   "file_extension": ".py",
   "mimetype": "text/x-python",
   "name": "python",
   "nbconvert_exporter": "python",
   "pygments_lexer": "ipython3",
   "version": "3.7.1"
  }
 },
 "nbformat": 4,
 "nbformat_minor": 2
}
