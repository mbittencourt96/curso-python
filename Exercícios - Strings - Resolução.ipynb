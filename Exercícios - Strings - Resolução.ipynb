{
 "cells": [
  {
   "cell_type": "markdown",
   "metadata": {},
   "source": [
    "#### 1) Declare as variáveis e depois faça as seguintes transformações:\n",
    "#### a) 5.43 -> int\n",
    "#### b) 14 -> float\n",
    "#### c) 54.65 -> string"
   ]
  },
  {
   "cell_type": "markdown",
   "metadata": {},
   "source": [
    "### RESOLUÇÃO"
   ]
  },
  {
   "cell_type": "code",
   "execution_count": 1,
   "metadata": {},
   "outputs": [
    {
     "data": {
      "text/plain": [
       "(5, 14.0, '54.65')"
      ]
     },
     "execution_count": 1,
     "metadata": {},
     "output_type": "execute_result"
    }
   ],
   "source": [
    "a = 5.43\n",
    "b = 14\n",
    "c = 54.65\n",
    "\n",
    "a = int(a)\n",
    "b = float(b)\n",
    "c = str(c)\n",
    "a,b,c"
   ]
  },
  {
   "cell_type": "markdown",
   "metadata": {},
   "source": [
    "#### 2) Atribua o seguinte texto a uma variável:\n",
    "#### \"Joãozinho gosta muito de ir à aula. Hoje ele trouxe uma maçã para sua professora\""
   ]
  },
  {
   "cell_type": "markdown",
   "metadata": {},
   "source": [
    "### RESOLUÇÃO"
   ]
  },
  {
   "cell_type": "code",
   "execution_count": 11,
   "metadata": {},
   "outputs": [
    {
     "name": "stdout",
     "output_type": "stream",
     "text": [
      "\n",
      "Joãozinho gosta muito de ir à aula. \n",
      "Hoje ele trouxe uma maçã para sua professora.\n",
      "\n"
     ]
    }
   ],
   "source": [
    "texto = '''\n",
    "Joãozinho gosta muito de ir à aula. \n",
    "Hoje ele trouxe uma maçã para sua professora.\n",
    "'''\n",
    "print(texto)"
   ]
  },
  {
   "cell_type": "markdown",
   "metadata": {},
   "source": [
    "#### 3) Com a variável do exercício anterior, faça o seguinte:\n",
    "#### a) Substitua 'maçã' por outra fruta.\n",
    "#### b) Substitua 'Joãozinho' por 'Pedrinho'.\n",
    "#### c) Coloque toda a frase em letra maiúscula.\n",
    "#### d) Separe a primeira sentença da segunda."
   ]
  },
  {
   "cell_type": "markdown",
   "metadata": {},
   "source": [
    "### RESOLUÇÃO"
   ]
  },
  {
   "cell_type": "code",
   "execution_count": 12,
   "metadata": {},
   "outputs": [
    {
     "name": "stdout",
     "output_type": "stream",
     "text": [
      "\n",
      "Joãozinho gosta muito de ir à aula. \n",
      "Hoje ele trouxe uma laranja para sua professora.\n",
      "\n"
     ]
    }
   ],
   "source": [
    "#Letra a - Substituindo maçã por laranja\n",
    "\n",
    "texto = texto.replace('maçã','laranja')\n",
    "print(texto)"
   ]
  },
  {
   "cell_type": "code",
   "execution_count": 13,
   "metadata": {},
   "outputs": [
    {
     "name": "stdout",
     "output_type": "stream",
     "text": [
      "\n",
      "Pedrinho gosta muito de ir à aula. \n",
      "Hoje ele trouxe uma laranja para sua professora.\n",
      "\n"
     ]
    }
   ],
   "source": [
    "#letra b - substituindo Joãozinho por Pedrinho\n",
    "\n",
    "texto = texto.replace('Joãozinho','Pedrinho')\n",
    "print(texto)"
   ]
  },
  {
   "cell_type": "code",
   "execution_count": 14,
   "metadata": {},
   "outputs": [
    {
     "name": "stdout",
     "output_type": "stream",
     "text": [
      "\n",
      "PEDRINHO GOSTA MUITO DE IR À AULA. \n",
      "HOJE ELE TROUXE UMA LARANJA PARA SUA PROFESSORA.\n",
      "\n"
     ]
    }
   ],
   "source": [
    "#letra c - colocando toda a frase em letra maiúscula\n",
    "texto = texto.upper()\n",
    "print(texto)"
   ]
  },
  {
   "cell_type": "code",
   "execution_count": 15,
   "metadata": {},
   "outputs": [
    {
     "name": "stdout",
     "output_type": "stream",
     "text": [
      "['\\nPEDRINHO GOSTA MUITO DE IR À AULA', ' \\nHOJE ELE TROUXE UMA LARANJA PARA SUA PROFESSORA', '\\n']\n"
     ]
    }
   ],
   "source": [
    "#letra d - separando as sentenças\n",
    "\n",
    "texto = texto.split('.')\n",
    "print(texto)"
   ]
  },
  {
   "cell_type": "markdown",
   "metadata": {},
   "source": [
    "#### 4) Para praticar a concatenação e formatação de strings, faça o seguinte:\n",
    "#### a) Escolha duas coisas que você gosta muito. Coloque cada uma em uma variável.\n",
    "#### b) Coloque seu nome em uma variável.\n",
    "#### c) Crie uma string contendo \"Meu nome é _____ e eu gosto de _____ e também de _____\", substituindo os espaços em branco pelas suas variáveis. Você pode usar tanto o método de concatenação quanto o de formatação."
   ]
  },
  {
   "cell_type": "markdown",
   "metadata": {},
   "source": [
    "### RESOLUÇÃO"
   ]
  },
  {
   "cell_type": "code",
   "execution_count": 16,
   "metadata": {},
   "outputs": [
    {
     "data": {
      "text/plain": [
       "'Meu nome é Mariana e eu gosto de Ler e também de Comer'"
      ]
     },
     "execution_count": 16,
     "metadata": {},
     "output_type": "execute_result"
    }
   ],
   "source": [
    "coisa = 'Ler'\n",
    "coisa2 = 'Comer'\n",
    "nome = 'Mariana'\n",
    "\n",
    "string_completa = 'Meu nome é {} e eu gosto de {} e também de {}'.format(nome,coisa,coisa2)\n",
    "string_completa"
   ]
  },
  {
   "cell_type": "markdown",
   "metadata": {},
   "source": [
    "### OUTRA FORMA DE RESOLVER"
   ]
  },
  {
   "cell_type": "code",
   "execution_count": 17,
   "metadata": {},
   "outputs": [
    {
     "data": {
      "text/plain": [
       "'Meu nome é Mariana e eu gosto de Ler e também de Comer'"
      ]
     },
     "execution_count": 17,
     "metadata": {},
     "output_type": "execute_result"
    }
   ],
   "source": [
    "string_completa = 'Meu nome é ' + nome + ' e eu gosto de ' + coisa + ' e também de ' + coisa2\n",
    "string_completa"
   ]
  },
  {
   "cell_type": "code",
   "execution_count": null,
   "metadata": {},
   "outputs": [],
   "source": []
  }
 ],
 "metadata": {
  "kernelspec": {
   "display_name": "Python 3",
   "language": "python",
   "name": "python3"
  },
  "language_info": {
   "codemirror_mode": {
    "name": "ipython",
    "version": 3
   },
   "file_extension": ".py",
   "mimetype": "text/x-python",
   "name": "python",
   "nbconvert_exporter": "python",
   "pygments_lexer": "ipython3",
   "version": "3.7.1"
  }
 },
 "nbformat": 4,
 "nbformat_minor": 2
}
